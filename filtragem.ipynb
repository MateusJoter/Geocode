{
 "cells": [
  {
   "cell_type": "code",
   "execution_count": 1,
   "id": "01d71abb-adde-475b-a674-70bae709f9fe",
   "metadata": {},
   "outputs": [],
   "source": [
    "import pandas as pd\n",
    "import os\n",
    "from tqdm import tqdm"
   ]
  },
  {
   "cell_type": "code",
   "execution_count": 2,
   "id": "9403a372-5a03-4a29-a9c4-dda2de84fb22",
   "metadata": {},
   "outputs": [],
   "source": [
    "def filtrar_linhas(notas, filtro_EMI = \"60\", filtro_DES = \"60\"):\n",
    "    resultado = notas[\n",
    "        notas['CEP_EMI'].astype(str).str.startswith(filtro_EMI) | \n",
    "        notas['CEP_EMI'].astype(str).str.startswith(filtro_DES)\n",
    "    ]\n",
    "    \n",
    "    return resultado\n",
    "    # resultado.to_csv(caminho_novo_csv, sep=\";\", index=False, mode='w', header=True)"
   ]
  },
  {
   "cell_type": "code",
   "execution_count": 3,
   "id": "da20b07c-0162-4437-a2dc-e4ef77a8fcfb",
   "metadata": {},
   "outputs": [],
   "source": [
    "caminho_dir = R\"D:\\Notas Fiscais 2018\"\n",
    "lista_dir = os.listdir(caminho_dir)\n",
    "\n",
    "filtro_EMI, filtro_DES = \"FORTALEZA\", \"FORTALEZA\"\n",
    "workers = 20"
   ]
  },
  {
   "cell_type": "code",
   "execution_count": 4,
   "id": "66fe1bf0-4ee6-45b9-9a8f-93420b25c8e9",
   "metadata": {},
   "outputs": [
    {
     "name": "stderr",
     "output_type": "stream",
     "text": [
      "E tome processo:   0%|                                                                          | 0/13 [00:00<?, ?it/s]"
     ]
    },
    {
     "name": "stdout",
     "output_type": "stream",
     "text": [
      "Filtrando as notas (D:\\Notas Fiscais 2018\\NFE_Petran_2018_T1.csv).\n"
     ]
    },
    {
     "name": "stderr",
     "output_type": "stream",
     "text": [
      "E tome processo:  15%|##########1                                                       | 2/13 [00:09<00:50,  4.58s/it]"
     ]
    },
    {
     "name": "stdout",
     "output_type": "stream",
     "text": [
      "Salvo! :)\n",
      "Filtrando as notas (D:\\Notas Fiscais 2018\\NFE_Petran_2018_T2.csv).\n"
     ]
    },
    {
     "name": "stderr",
     "output_type": "stream",
     "text": [
      "E tome processo:  38%|#########################3                                        | 5/13 [00:19<00:30,  3.84s/it]"
     ]
    },
    {
     "name": "stdout",
     "output_type": "stream",
     "text": [
      "Salvo! :)\n",
      "Filtrando as notas (D:\\Notas Fiscais 2018\\NFE_Petran_2018_T3.csv).\n"
     ]
    },
    {
     "name": "stderr",
     "output_type": "stream",
     "text": [
      "E tome processo:  62%|########################################6                         | 8/13 [00:30<00:18,  3.74s/it]"
     ]
    },
    {
     "name": "stdout",
     "output_type": "stream",
     "text": [
      "Salvo! :)\n",
      "Filtrando as notas (D:\\Notas Fiscais 2018\\NFE_Petran_2018_T4.csv).\n"
     ]
    },
    {
     "name": "stderr",
     "output_type": "stream",
     "text": [
      "E tome processo: 100%|#################################################################| 13/13 [00:41<00:00,  3.21s/it]"
     ]
    },
    {
     "name": "stdout",
     "output_type": "stream",
     "text": [
      "Salvo! :)\n"
     ]
    },
    {
     "name": "stderr",
     "output_type": "stream",
     "text": [
      "\n"
     ]
    }
   ],
   "source": [
    "for item in tqdm(lista_dir, ascii = True, desc = \"E tome processo\"):\n",
    "    if item.endswith(\".csv\"):\n",
    "        caminho_notas = os.path.join(caminho_dir, item)\n",
    "        notas = pd.read_csv(caminho_notas, sep = \";\")\n",
    "\n",
    "        caminho_filtrados = os.path.join(caminho_dir, 'Filtrados')\n",
    "        os.makedirs(caminho_filtrados, exist_ok=True)\n",
    "\n",
    "        try:\n",
    "            print(f\"Filtrando as notas ({caminho_notas}).\")\n",
    "            notas_filtradas = filtrar_linhas(notas)\n",
    "            caminho_notas_filtradas = os.path.join(caminho_filtrados, item.split(\".\")[0] + \"_filtrados.csv\")\n",
    "            notas_filtradas.to_csv(caminho_notas_filtradas, sep=\";\", index=False, mode='w', header=True)\n",
    "            print(\"Salvo! :)\")\n",
    "\n",
    "        except Exception as e:\n",
    "            print(f\"Foi mal, mas deu ruim, olha: {e}.\")"
   ]
  }
 ],
 "metadata": {
  "kernelspec": {
   "display_name": "Python 3 (ipykernel)",
   "language": "python",
   "name": "python3"
  },
  "language_info": {
   "codemirror_mode": {
    "name": "ipython",
    "version": 3
   },
   "file_extension": ".py",
   "mimetype": "text/x-python",
   "name": "python",
   "nbconvert_exporter": "python",
   "pygments_lexer": "ipython3",
   "version": "3.12.6"
  }
 },
 "nbformat": 4,
 "nbformat_minor": 5
}
