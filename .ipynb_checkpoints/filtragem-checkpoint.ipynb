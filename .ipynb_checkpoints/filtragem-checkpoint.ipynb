{
 "cells": [
  {
   "cell_type": "code",
   "execution_count": 1,
   "id": "01d71abb-adde-475b-a674-70bae709f9fe",
   "metadata": {},
   "outputs": [],
   "source": [
    "import pandas as pd\n",
    "import os\n",
    "import threading\n",
    "from tqdm import tqdm"
   ]
  },
  {
   "cell_type": "code",
   "execution_count": 2,
   "id": "9403a372-5a03-4a29-a9c4-dda2de84fb22",
   "metadata": {},
   "outputs": [],
   "source": [
    "def filtrar_linhas(arquivo_csv, filtro_EMI, filtro_DES, caminho_novo_csv):\n",
    "    resultado = arquivo_csv[(arquivo_csv['MUNICIPIO_EMI'] == filtro_EMI) | (arquivo_csv['MUNICIPIO_DES'] == filtro_DES)]\n",
    "    resultado.to_csv(caminho_novo_csv, sep=\";\", index=False, mode='w', header=True)"
   ]
  },
  {
   "cell_type": "code",
   "execution_count": 3,
   "id": "da20b07c-0162-4437-a2dc-e4ef77a8fcfb",
   "metadata": {},
   "outputs": [],
   "source": [
    "diretorio_caminho = r\"D:\\Notas Fiscais 2018\"\n",
    "diretorio = os.listdir(diretorio_caminho)\n",
    "\n",
    "filtro_EMI, filtro_DES = \"FORTALEZA\", \"FORTALEZA\"\n",
    "workers = 20"
   ]
  },
  {
   "cell_type": "code",
   "execution_count": 4,
   "id": "66fe1bf0-4ee6-45b9-9a8f-93420b25c8e9",
   "metadata": {},
   "outputs": [
    {
     "name": "stderr",
     "output_type": "stream",
     "text": [
      "100%|██████████████████████████████████████████████████████████████████████████████████| 20/20 [00:00<00:00, 64.67it/s]\n",
      "100%|██████████████████████████████████████████████████████████████████████████████████| 20/20 [00:00<00:00, 31.16it/s]\n",
      "100%|██████████████████████████████████████████████████████████████████████████████████| 20/20 [00:00<00:00, 37.53it/s]\n",
      "100%|██████████████████████████████████████████████████████████████████████████████████| 20/20 [00:00<00:00, 32.80it/s]\n"
     ]
    }
   ],
   "source": [
    "for item in diretorio:\n",
    "    if item.endswith(\".csv\"):\n",
    "        caminho_csv = os.path.join(diretorio_caminho, item)\n",
    "        csv = pd.read_csv(caminho_csv, sep = \";\")\n",
    "\n",
    "        diretorio_novo_caminho = os.path.join(os.path.join(diretorio_caminho, r'Resultados'), item.split('.')[0])\n",
    "        os.makedirs(diretorio_novo_caminho, exist_ok=True)\n",
    "\n",
    "        tamanho_arg = len(csv) // workers\n",
    "        threads = []\n",
    "\n",
    "        for worker in tqdm(range(workers)):\n",
    "            limite_inferior = worker * tamanho_arg\n",
    "            limite_superior = (worker + 1) * tamanho_arg if worker != workers - 1 else len(csv)\n",
    "\n",
    "            arg = csv[limite_inferior:limite_superior]\n",
    "            caminho_thread_csv = os.path.join(diretorio_novo_caminho, f\"worker_{worker + 1}.csv\")\n",
    "\n",
    "            t = threading.Thread(target=filtrar_linhas, args=(arg, filtro_EMI, filtro_DES, caminho_thread_csv))\n",
    "            threads.append(t)\n",
    "            t.start()\n",
    "\n",
    "        for thread in threads:\n",
    "            thread.join()"
   ]
  },
  {
   "cell_type": "code",
   "execution_count": 7,
   "id": "73dc5ab8-e864-4e3f-b1b4-1c338d9c31ae",
   "metadata": {},
   "outputs": [],
   "source": [
    "caminho_resultados = r\"D:\\Notas Fiscais 2018\\Resultados\"\n",
    "resultados = os.listdir(caminho_resultados)"
   ]
  },
  {
   "cell_type": "code",
   "execution_count": 8,
   "id": "89c5ce35-9147-4270-b0ee-220239e36819",
   "metadata": {},
   "outputs": [],
   "source": [
    "for item in resultados:\n",
    "    if not item.endswith(\".csv\"):\n",
    "        caminho_csvs = os.path.join(caminho_resultados, item)\n",
    "        csvs = os.listdir(caminho_csvs)\n",
    "\n",
    "        csv_final_caminho = os.path.join(caminho_resultados, item+\"_filtrado.csv\")\n",
    "\n",
    "        lista_csvs = []\n",
    "        \n",
    "        for csv in csvs:\n",
    "            caminho_parte = os.path.join(caminho_csvs, csv)\n",
    "            parte = pd.read_csv(caminho_parte, sep = \";\")\n",
    "            lista_csvs.append(parte)\n",
    "\n",
    "        merged_csv = pd.concat(lista_csvs, ignore_index=True)\n",
    "        merged_csv.to_csv(csv_final_caminho, sep=\";\", index=False, mode='w', header=True)"
   ]
  }
 ],
 "metadata": {
  "kernelspec": {
   "display_name": "Python 3 (ipykernel)",
   "language": "python",
   "name": "python3"
  },
  "language_info": {
   "codemirror_mode": {
    "name": "ipython",
    "version": 3
   },
   "file_extension": ".py",
   "mimetype": "text/x-python",
   "name": "python",
   "nbconvert_exporter": "python",
   "pygments_lexer": "ipython3",
   "version": "3.12.6"
  }
 },
 "nbformat": 4,
 "nbformat_minor": 5
}
