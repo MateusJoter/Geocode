{
 "cells": [
  {
   "cell_type": "code",
   "execution_count": 1,
   "id": "85e6b43f-0b20-4d66-81ff-c09c94261d8b",
   "metadata": {},
   "outputs": [],
   "source": [
    "import pandas as pd\n",
    "import os\n",
    "from tqdm import tqdm "
   ]
  },
  {
   "cell_type": "code",
   "execution_count": 5,
   "id": "f83eac29-6135-46ee-8b63-b25c7c39db5c",
   "metadata": {},
   "outputs": [],
   "source": [
    "def catalogar_cidades(notas, caminho_saida, UF_class = \"UF_EMI\", mun_class = \"MUNICIPIO_EMI\", UF_alvo = \"CE\", mun_alvo = \"FORTALEZA\"):\n",
    "    # Filtrando apenas as notas que estão na UF alvo.\n",
    "    # Subescrevendo a var para gastar menos memória.\n",
    "    notas = notas[notas[UF_class] == UF_alvo]\n",
    "\n",
    "    # Catalogando os diferentes municipios.\n",
    "    quantidade_notas = len(notas)\n",
    "    lista_mun = []\n",
    "    for i in tqdm(range(quantidade_notas), ascii = True, desc = \"Verificando e catalogando os municipios\"):\n",
    "        try:\n",
    "            if notas.iloc[i][mun_class] not in lista_mun:\n",
    "                lista_mun.append(notas.iloc[i][mun_class])\n",
    "        except Exception as e:\n",
    "            print(e)\n",
    "    lista_mun.sort()\n",
    "\n",
    "    # Salvando os municipios catalogados.\n",
    "    dados = \"\"\n",
    "    for mun in lista_mun:\n",
    "        dados += mun + \"\\n\"\n",
    "    with open(caminho_saida, \"w\") as arquivo:\n",
    "        arquivo.write(dados)\n",
    "    print(f\"Municípios salvos em: {caminho_saida}\")"
   ]
  },
  {
   "cell_type": "code",
   "execution_count": 3,
   "id": "d58fd494-0a9b-494c-9eae-2ad392b3738d",
   "metadata": {},
   "outputs": [],
   "source": [
    "caminho_dir = R\"D:\\Notas Fiscais 2018\"\n",
    "lista_dir = os.listdir(caminho_dir)"
   ]
  },
  {
   "cell_type": "code",
   "execution_count": 6,
   "id": "bd017185-9c22-4c4e-94b7-8e337f9c922e",
   "metadata": {
    "scrolled": true
   },
   "outputs": [
    {
     "name": "stdout",
     "output_type": "stream",
     "text": [
      "Iniciando processo de NFE_Petran_2018_T1.csv. . .\n"
     ]
    },
    {
     "name": "stderr",
     "output_type": "stream",
     "text": [
      "Verificando e catalogando os municipios: 100%|############################| 3068638/3068638 [01:07<00:00, 45589.98it/s]\n"
     ]
    },
    {
     "name": "stdout",
     "output_type": "stream",
     "text": [
      "Municípios salvos em: D:\\Notas Fiscais 2018\\NFE_Petran_2018_T1_municipios_EMI.txt\n",
      "\n",
      "\n",
      "Iniciando processo de NFE_Petran_2018_T2.csv. . .\n"
     ]
    },
    {
     "name": "stderr",
     "output_type": "stream",
     "text": [
      "Verificando e catalogando os municipios: 100%|############################| 3179861/3179861 [01:07<00:00, 46865.29it/s]\n"
     ]
    },
    {
     "name": "stdout",
     "output_type": "stream",
     "text": [
      "Municípios salvos em: D:\\Notas Fiscais 2018\\NFE_Petran_2018_T2_municipios_EMI.txt\n",
      "\n",
      "\n",
      "Iniciando processo de NFE_Petran_2018_T3.csv. . .\n"
     ]
    },
    {
     "name": "stderr",
     "output_type": "stream",
     "text": [
      "Verificando e catalogando os municipios: 100%|############################| 3301668/3301668 [01:10<00:00, 46778.83it/s]\n"
     ]
    },
    {
     "name": "stdout",
     "output_type": "stream",
     "text": [
      "Municípios salvos em: D:\\Notas Fiscais 2018\\NFE_Petran_2018_T3_municipios_EMI.txt\n",
      "\n",
      "\n",
      "Iniciando processo de NFE_Petran_2018_T4.csv. . .\n"
     ]
    },
    {
     "name": "stderr",
     "output_type": "stream",
     "text": [
      "Verificando e catalogando os municipios: 100%|############################| 3406696/3406696 [01:14<00:00, 45882.37it/s]"
     ]
    },
    {
     "name": "stdout",
     "output_type": "stream",
     "text": [
      "Municípios salvos em: D:\\Notas Fiscais 2018\\NFE_Petran_2018_T4_municipios_EMI.txt\n",
      "\n",
      "\n",
      ":)\n"
     ]
    },
    {
     "name": "stderr",
     "output_type": "stream",
     "text": [
      "\n"
     ]
    }
   ],
   "source": [
    "# Processo para emissor:\n",
    "\n",
    "for item in lista_dir:\n",
    "    if item.endswith(\".csv\"):\n",
    "        caminho_notas = os.path.join(caminho_dir, item)\n",
    "        notas = pd.read_csv(caminho_notas, sep = \";\")\n",
    "\n",
    "        \n",
    "        caminho_saida = caminho_notas.split(\".\")[0] + \"_municipios_EMI.txt\"\n",
    "\n",
    "        print(f\"Iniciando processo de {item}. . .\")\n",
    "        catalogar_cidades(notas, caminho_saida)\n",
    "        print(\"\\n\")\n",
    "\n",
    "print(\":)\")"
   ]
  },
  {
   "cell_type": "code",
   "execution_count": 7,
   "id": "4c3cacdb-e49e-42c0-a6e4-9a7a9e6f3c34",
   "metadata": {
    "scrolled": true
   },
   "outputs": [
    {
     "name": "stdout",
     "output_type": "stream",
     "text": [
      "Iniciando processo de NFE_Petran_2018_T1.csv. . .\n"
     ]
    },
    {
     "name": "stderr",
     "output_type": "stream",
     "text": [
      "Verificando e catalogando os municipios: 100%|############################| 2520844/2520844 [00:51<00:00, 48500.44it/s]\n"
     ]
    },
    {
     "name": "stdout",
     "output_type": "stream",
     "text": [
      "Municípios salvos em: D:\\Notas Fiscais 2018\\NFE_Petran_2018_T1_municipios_DES.txt\n",
      "\n",
      "\n",
      "Iniciando processo de NFE_Petran_2018_T2.csv. . .\n"
     ]
    },
    {
     "name": "stderr",
     "output_type": "stream",
     "text": [
      "Verificando e catalogando os municipios: 100%|############################| 2594899/2594899 [00:55<00:00, 47089.90it/s]\n"
     ]
    },
    {
     "name": "stdout",
     "output_type": "stream",
     "text": [
      "Municípios salvos em: D:\\Notas Fiscais 2018\\NFE_Petran_2018_T2_municipios_DES.txt\n",
      "\n",
      "\n",
      "Iniciando processo de NFE_Petran_2018_T3.csv. . .\n"
     ]
    },
    {
     "name": "stderr",
     "output_type": "stream",
     "text": [
      "Verificando e catalogando os municipios: 100%|############################| 2668264/2668264 [00:58<00:00, 45714.16it/s]\n"
     ]
    },
    {
     "name": "stdout",
     "output_type": "stream",
     "text": [
      "Municípios salvos em: D:\\Notas Fiscais 2018\\NFE_Petran_2018_T3_municipios_DES.txt\n",
      "\n",
      "\n",
      "Iniciando processo de NFE_Petran_2018_T4.csv. . .\n"
     ]
    },
    {
     "name": "stderr",
     "output_type": "stream",
     "text": [
      "Verificando e catalogando os municipios: 100%|############################| 2725486/2725486 [00:59<00:00, 46091.13it/s]"
     ]
    },
    {
     "name": "stdout",
     "output_type": "stream",
     "text": [
      "Municípios salvos em: D:\\Notas Fiscais 2018\\NFE_Petran_2018_T4_municipios_DES.txt\n",
      "\n",
      "\n",
      ":)\n"
     ]
    },
    {
     "name": "stderr",
     "output_type": "stream",
     "text": [
      "\n"
     ]
    }
   ],
   "source": [
    "# Processo para destinatario:\n",
    "\n",
    "for item in lista_dir:\n",
    "    if item.endswith(\".csv\"):\n",
    "        caminho_notas = os.path.join(caminho_dir, item)\n",
    "        notas = pd.read_csv(caminho_notas, sep = \";\")\n",
    "\n",
    "        \n",
    "        caminho_saida = caminho_notas.split(\".\")[0] + \"_municipios_DES.txt\"\n",
    "\n",
    "        print(f\"Iniciando processo de {item}. . .\")\n",
    "        catalogar_cidades(notas, caminho_saida, UF_class = \"UF_DES\", mun_class = \"MUNICIPIO_DES\")\n",
    "        print(\"\\n\")\n",
    "\n",
    "print(\":)\")"
   ]
  },
  {
   "cell_type": "code",
   "execution_count": null,
   "id": "66edafd6-a64e-4f6c-8651-5e9c8d45bf71",
   "metadata": {},
   "outputs": [],
   "source": []
  }
 ],
 "metadata": {
  "kernelspec": {
   "display_name": "Python 3 (ipykernel)",
   "language": "python",
   "name": "python3"
  },
  "language_info": {
   "codemirror_mode": {
    "name": "ipython",
    "version": 3
   },
   "file_extension": ".py",
   "mimetype": "text/x-python",
   "name": "python",
   "nbconvert_exporter": "python",
   "pygments_lexer": "ipython3",
   "version": "3.12.6"
  }
 },
 "nbformat": 4,
 "nbformat_minor": 5
}
