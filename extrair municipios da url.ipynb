{
 "cells": [
  {
   "cell_type": "code",
   "execution_count": 1,
   "id": "6bb42f1a-db5a-4696-afc4-5525da9f6453",
   "metadata": {},
   "outputs": [],
   "source": [
    "import requests\n",
    "from bs4 import BeautifulSoup"
   ]
  },
  {
   "cell_type": "code",
   "execution_count": null,
   "id": "1266089f-d63b-4709-9ce1-77bbda642449",
   "metadata": {},
   "outputs": [],
   "source": [
    "# Função para obter as cidades do site\n",
    "def obter_cidades_do_site(url):\n",
    "    try:\n",
    "        # Fazendo uma requisição HTTP para o site\n",
    "        resposta = requests.get(url)\n",
    "        \n",
    "        # Verificando se a requisição foi bem-sucedida\n",
    "        if resposta.status_code != 200:\n",
    "            print(f\"Erro ao acessar o site: {resposta.status_code}\")\n",
    "            return []\n",
    "        \n",
    "        # Usando BeautifulSoup para parsear o HTML\n",
    "        sopa = BeautifulSoup(resposta.text, 'html.parser')\n",
    "        \n",
    "        # Encontrando os elementos que contêm os nomes das cidades (ajuste conforme a estrutura do site)\n",
    "        # Supondo que as cidades estão em uma lista ou em um elemento com uma classe específica\n",
    "        cidades = sopa.find_all('li')  # Ajuste este seletor conforme a estrutura do site\n",
    "\n",
    "        # Extraindo o texto de cada cidade\n",
    "        cidades_corretas = [cidade.get_text().strip() for cidade in cidades]\n",
    "        \n",
    "        return cidades_corretas\n",
    "    except Exception as e:\n",
    "        print(f\"Erro ao processar o site: {e}\")\n",
    "        return []"
   ]
  },
  {
   "cell_type": "code",
   "execution_count": null,
   "id": "d46bdf2f-9ac9-4057-8202-bea497b34d15",
   "metadata": {},
   "outputs": [],
   "source": [
    "cidades_corretas = obter_cidades_do_site(\"https://www.ipece.ce.gov.br/mapas-municipais/\")"
   ]
  },
  {
   "cell_type": "code",
   "execution_count": null,
   "id": "7e1fbbd1-0453-417a-a885-5678b63e2ccf",
   "metadata": {},
   "outputs": [],
   "source": [
    "with open(r\"D:\\Notas Fiscais 2018\\Resultados\\municipios_corretos.txt\", 'a') as municipios:\n",
    "    for cidade in cidades_corretas:\n",
    "        municipios.write(cidade + '\\n')"
   ]
  }
 ],
 "metadata": {
  "kernelspec": {
   "display_name": "Python 3 (ipykernel)",
   "language": "python",
   "name": "python3"
  },
  "language_info": {
   "codemirror_mode": {
    "name": "ipython",
    "version": 3
   },
   "file_extension": ".py",
   "mimetype": "text/x-python",
   "name": "python",
   "nbconvert_exporter": "python",
   "pygments_lexer": "ipython3",
   "version": "3.12.6"
  }
 },
 "nbformat": 4,
 "nbformat_minor": 5
}
