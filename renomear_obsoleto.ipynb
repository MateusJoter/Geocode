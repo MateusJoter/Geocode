{
 "cells": [
  {
   "cell_type": "code",
   "execution_count": 3,
   "id": "b1af4df6-2325-4a8b-8ab9-792a9c8b2302",
   "metadata": {},
   "outputs": [],
   "source": [
    "import pandas as pd\n",
    "import os\n",
    "from tqdm import tqdm\n",
    "from fuzzywuzzy import process"
   ]
  },
  {
   "cell_type": "code",
   "execution_count": 4,
   "id": "569c34dc-90da-4835-a662-96be85eedc1b",
   "metadata": {},
   "outputs": [],
   "source": [
    "notas = pd.read_csv(R\"D:\\Notas Fiscais 2018\\NFE_Petran_2018_T1.csv\", sep = ';')"
   ]
  },
  {
   "cell_type": "code",
   "execution_count": 20,
   "id": "e7554669-1647-413e-944a-b004f30437f2",
   "metadata": {},
   "outputs": [],
   "source": [
    "regra1 = notas['CEP_EMI'].astype(str).str.startswith('60')\n",
    "regra2 = notas['CEP_DES'].astype(str).str.startswith('60')\n",
    "\n",
    "filtradas = notas[regra1 | regra2]\n",
    "\n",
    "filtradas.to_csv(R\"D:\\preu_ver.csv\", sep=\";\", index=False, mode='w', header=True)"
   ]
  },
  {
   "cell_type": "code",
   "execution_count": 21,
   "id": "8607b456-8d8f-40e6-981b-9f7ca1377c9b",
   "metadata": {},
   "outputs": [],
   "source": [
    "def renomear(df, nome_certo):\n",
    "    for linha in tqdm(range(len(df))):\n",
    "        if df.iloc[linha]['UF_EMI'] == 'CE':\n",
    "            if df.iloc[linha]['MUNICIPIO_EMI'] == '2304400':\n",
    "                df.at[linha, 'MUNICIPIO_EMI'] = nome_certo\n",
    "            else:\n",
    "                teste_fuzz = process.extractOne(df.iloc[linha]['MUNICIPIO_EMI'].upper(), nome_certo, score_cutoff=90)\n",
    "                if teste_fuzz:\n",
    "                    df.at[linha, 'MUNICIPIO_EMI'] = nome_certo\n",
    "        if df.iloc[linha]['UF_DES'] == 'CE':\n",
    "            if df.iloc[linha]['MUNICIPIO_DES'] == '2304400':\n",
    "                df.at[linha, 'MUNICIPIO_DES'] = nome_certo\n",
    "            else:\n",
    "                teste_fuzz = process.extractOne(df.iloc[linha]['MUNICIPIO_DES'].upper(), nome_certo, score_cutoff=90)\n",
    "                if teste_fuzz:\n",
    "                    df.at[linha, 'MUNICIPIO_DES'] = nome_certo\n",
    "        if linha == 1300:\n",
    "            break\n",
    "    return df"
   ]
  },
  {
   "cell_type": "code",
   "execution_count": 22,
   "id": "6199b77e-bb81-4fbd-b7c7-5eddd3e67120",
   "metadata": {},
   "outputs": [
    {
     "name": "stderr",
     "output_type": "stream",
     "text": [
      "  0%|                                                                          | 820/2121054 [00:00<20:55, 1689.32it/s]C:\\Users\\Mateus Joter\\AppData\\Local\\Temp\\ipykernel_28968\\2062599409.py:9: SettingWithCopyWarning: \n",
      "A value is trying to be set on a copy of a slice from a DataFrame\n",
      "\n",
      "See the caveats in the documentation: https://pandas.pydata.org/pandas-docs/stable/user_guide/indexing.html#returning-a-view-versus-a-copy\n",
      "  df.at[linha, 'MUNICIPIO_EMI'] = nome_certo\n",
      "  0%|                                                                        | 1300/2121054 [00:53<24:09:02, 24.38it/s]\n"
     ]
    }
   ],
   "source": [
    "teste_func = renomear(filtradas, 'FORTALEZA')[0:1299]\n",
    "\n",
    "teste_func.to_csv(R\"D:\\preu_ver_teste.csv\", sep=\";\", index=False, mode='w', header=True)"
   ]
  },
  {
   "cell_type": "code",
   "execution_count": null,
   "id": "cd053c3c-5b16-4a9a-b0f2-f51cd1134240",
   "metadata": {},
   "outputs": [],
   "source": [
    "caminho_notas = r\"D:\\Notas Fiscais 2018\"\n",
    "notas = os.listdir(caminho_notas)\n",
    "\n",
    "municipio_correto = \"FORTALEZA\"\n",
    "workers = 20"
   ]
  },
  {
   "cell_type": "code",
   "execution_count": null,
   "id": "d10ad30c-c7c6-4fe4-a7f6-54e81a40f354",
   "metadata": {},
   "outputs": [],
   "source": [
    "for nota in notas:\n",
    "    if nota.endswith(\".csv\"):\n",
    "        caminho_nota_csv = os.path.join(caminho_notas, nota)\n",
    "        nota_csv = pd.read_csv(caminho_nota_csv, sep = \";\")\n",
    "\n",
    "        resultado_caminho = os.path.join(os.path.join(caminho_notas, 'Resultados_2'), item.split('.')[0])\n",
    "        os.makedirs(resultado_caminho, exist_ok=True)\n",
    "\n",
    "        tamanho_thread = len(nota_csv) // workers\n",
    "        threads = []\n",
    "\n",
    "        for worker in tqdm(range(workers)):\n",
    "            limite_inferior = worker * tamanho_arg\n",
    "            limite_superior = (worker + 1) * tamanho_arg if worker != workers - 1 else len(csv)\n",
    "\n",
    "            work = nota_csv[limite_inferior:limite_superior]\n",
    "            caminho_thread_csv = os.path.join(diretorio_novo_caminho, f\"worker_{worker + 1}.csv\")\n",
    "\n",
    "            t = threading.Thread(target=filtrar_linhas, args=(arg, filtro_EMI, filtro_DES, caminho_thread_csv))\n",
    "            threads.append(t)\n",
    "            t.start()\n",
    "\n",
    "        for thread in threads:\n",
    "            thread.join()"
   ]
  }
 ],
 "metadata": {
  "kernelspec": {
   "display_name": "Python 3 (ipykernel)",
   "language": "python",
   "name": "python3"
  },
  "language_info": {
   "codemirror_mode": {
    "name": "ipython",
    "version": 3
   },
   "file_extension": ".py",
   "mimetype": "text/x-python",
   "name": "python",
   "nbconvert_exporter": "python",
   "pygments_lexer": "ipython3",
   "version": "3.12.6"
  }
 },
 "nbformat": 4,
 "nbformat_minor": 5
}
